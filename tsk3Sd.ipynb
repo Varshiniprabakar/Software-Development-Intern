{
  "nbformat": 4,
  "nbformat_minor": 0,
  "metadata": {
    "colab": {
      "provenance": []
    },
    "kernelspec": {
      "name": "python3",
      "display_name": "Python 3"
    },
    "language_info": {
      "name": "python"
    }
  },
  "cells": [
    {
      "cell_type": "code",
      "source": [
        "def celsius_to_fahrenheit(celsius):\n",
        "    return (celsius * 9/5) + 32\n",
        "\n",
        "def celsius_to_kelvin(celsius):\n",
        "    return celsius + 273.15\n",
        "\n",
        "def fahrenheit_to_celsius(fahrenheit):\n",
        "    return (fahrenheit - 32) * 5/9\n",
        "\n",
        "def fahrenheit_to_kelvin(fahrenheit):\n",
        "    return (fahrenheit - 32) * 5/9 + 273.15\n",
        "\n",
        "def kelvin_to_celsius(kelvin):\n",
        "    return kelvin - 273.15\n",
        "\n",
        "def kelvin_to_fahrenheit(kelvin):\n",
        "    return (kelvin - 273.15) * 9/5 + 32\n",
        "\n",
        "def display_menu():\n",
        "    print(\"\\nTemperature Converter\")\n",
        "    print(\"1. Celsius to Fahrenheit\")\n",
        "    print(\"2. Celsius to Kelvin\")\n",
        "    print(\"3. Fahrenheit to Celsius\")\n",
        "    print(\"4. Fahrenheit to Kelvin\")\n",
        "    print(\"5. Kelvin to Celsius\")\n",
        "    print(\"6. Kelvin to Fahrenheit\")\n",
        "    print(\"7. Exit\")\n",
        "\n",
        "def main():\n",
        "    name = input(\"Please enter your name: \")\n",
        "    print(f\"Welcome to the Temperature Converter, {name}!\")\n",
        "\n",
        "    while True:\n",
        "        display_menu()\n",
        "        choice = input(\"Enter your choice: \")\n",
        "\n",
        "        if choice == '1':\n",
        "            celsius = float(input(\"Enter temperature in Celsius: \"))\n",
        "            print(f\"{celsius}°C is {celsius_to_fahrenheit(celsius)}°F\")\n",
        "        elif choice == '2':\n",
        "            celsius = float(input(\"Enter temperature in Celsius: \"))\n",
        "            print(f\"{celsius}°C is {celsius_to_kelvin(celsius)}K\")\n",
        "        elif choice == '3':\n",
        "            fahrenheit = float(input(\"Enter temperature in Fahrenheit: \"))\n",
        "            print(f\"{fahrenheit}°F is {fahrenheit_to_celsius(fahrenheit)}°C\")\n",
        "        elif choice == '4':\n",
        "            fahrenheit = float(input(\"Enter temperature in Fahrenheit: \"))\n",
        "            print(f\"{fahrenheit}°F is {fahrenheit_to_kelvin(fahrenheit)}K\")\n",
        "        elif choice == '5':\n",
        "            kelvin = float(input(\"Enter temperature in Kelvin: \"))\n",
        "            print(f\"{kelvin}K is {kelvin_to_celsius(kelvin)}°C\")\n",
        "        elif choice == '6':\n",
        "            kelvin = float(input(\"Enter temperature in Kelvin: \"))\n",
        "            print(f\"{kelvin}K is {kelvin_to_fahrenheit(kelvin)}°F\")\n",
        "        elif choice == '7':\n",
        "            print(f\"Exiting the Temperature Converter. Goodbye, {name}!\")\n",
        "            break\n",
        "        else:\n",
        "            print(\"Invalid choice. Please try again.\")\n",
        "# Correct the typographical error: _name_ to __name__\n",
        "if __name__ == \"__main__\":\n",
        "    main()"
      ],
      "metadata": {
        "colab": {
          "base_uri": "https://localhost:8080/"
        },
        "id": "2y1vgA0HEsSq",
        "outputId": "4d112fbc-78ad-49ed-e197-7bf23fe81cda"
      },
      "execution_count": null,
      "outputs": [
        {
          "output_type": "stream",
          "name": "stdout",
          "text": [
            "Please enter your name: Varshini\n",
            "Welcome to the Temperature Converter, Varshini!\n",
            "\n",
            "Temperature Converter\n",
            "1. Celsius to Fahrenheit\n",
            "2. Celsius to Kelvin\n",
            "3. Fahrenheit to Celsius\n",
            "4. Fahrenheit to Kelvin\n",
            "5. Kelvin to Celsius\n",
            "6. Kelvin to Fahrenheit\n",
            "7. Exit\n",
            "Enter your choice: 5\n",
            "Enter temperature in Kelvin: 0\n",
            "0.0K is -273.15°C\n",
            "\n",
            "Temperature Converter\n",
            "1. Celsius to Fahrenheit\n",
            "2. Celsius to Kelvin\n",
            "3. Fahrenheit to Celsius\n",
            "4. Fahrenheit to Kelvin\n",
            "5. Kelvin to Celsius\n",
            "6. Kelvin to Fahrenheit\n",
            "7. Exit\n"
          ]
        }
      ]
    }
  ]
}