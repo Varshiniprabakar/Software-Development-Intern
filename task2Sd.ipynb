{
  "nbformat": 4,
  "nbformat_minor": 0,
  "metadata": {
    "colab": {
      "provenance": []
    },
    "kernelspec": {
      "name": "python3",
      "display_name": "Python 3"
    },
    "language_info": {
      "name": "python"
    }
  },
  "cells": [
    {
      "cell_type": "code",
      "execution_count": null,
      "metadata": {
        "colab": {
          "base_uri": "https://localhost:8080/"
        },
        "id": "Y8zfBbxl--2C",
        "outputId": "07a3efc5-87e9-4bbc-a87b-580f7bdbcda4"
      },
      "outputs": [
        {
          "output_type": "stream",
          "name": "stdout",
          "text": [
            "Triangle Pattern:\n",
            "1 \n",
            "1 2 \n",
            "1 2 3 \n",
            "1 2 3 4 \n",
            "1 2 3 4 5 \n",
            "\n",
            "Reversed Triangle Pattern:\n",
            "1 2 3 4 5 \n",
            "1 2 3 4 \n",
            "1 2 3 \n",
            "1 2 \n",
            "1 \n",
            "\n",
            "Pyramid Pattern:\n",
            "    1 \n",
            "   1 2 \n",
            "  1 2 3 \n",
            " 1 2 3 4 \n",
            "1 2 3 4 5 \n",
            "\n",
            "Diamond Pattern:\n",
            "    1 \n",
            "   1 2 \n",
            "  1 2 3 \n",
            " 1 2 3 4 \n",
            "1 2 3 4 5 \n",
            " 1 2 3 4 \n",
            "  1 2 3 \n",
            "   1 2 \n",
            "    1 \n"
          ]
        }
      ],
      "source": [
        "def triangle_pattern(n):\n",
        "    for i in range(1, n + 1):\n",
        "        for j in range(1, i + 1):\n",
        "            print(j, end=\" \")\n",
        "        print()\n",
        "\n",
        "def reversed_triangle_pattern(n):\n",
        "    for i in range(n, 0, -1):\n",
        "        for j in range(1, i + 1):\n",
        "            print(j, end=\" \")\n",
        "        print()\n",
        "\n",
        "def pyramid_pattern(n):\n",
        "    for i in range(1, n + 1):\n",
        "        print(\" \" * (n - i), end=\"\")\n",
        "        for j in range(1, i + 1):\n",
        "            print(j, end=\" \")\n",
        "        print()\n",
        "\n",
        "def diamond_pattern(n):\n",
        "    for i in range(1, n + 1):\n",
        "        print(\" \" * (n - i), end=\"\")\n",
        "        for j in range(1, i + 1):\n",
        "            print(j, end=\" \")\n",
        "        print()\n",
        "    for i in range(n - 1, 0, -1):\n",
        "        print(\" \" * (n - i), end=\"\")\n",
        "        for j in range(1, i + 1):\n",
        "            print(j, end=\" \")\n",
        "        print()\n",
        "\n",
        "# Change the value of 'n' to generate larger or smaller patterns\n",
        "n = 5\n",
        "\n",
        "print(\"Triangle Pattern:\")\n",
        "triangle_pattern(n)\n",
        "print(\"\\nReversed Triangle Pattern:\")\n",
        "reversed_triangle_pattern(n)\n",
        "print(\"\\nPyramid Pattern:\")\n",
        "pyramid_pattern(n)\n",
        "print(\"\\nDiamond Pattern:\")\n",
        "diamond_pattern(n)"
      ]
    }
  ]
}